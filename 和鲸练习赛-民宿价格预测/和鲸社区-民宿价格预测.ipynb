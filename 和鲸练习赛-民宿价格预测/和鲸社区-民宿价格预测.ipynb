{
 "cells": [
  {
   "cell_type": "markdown",
   "id": "internal-hungary",
   "metadata": {},
   "source": [
    "# 测试Keras环境"
   ]
  },
  {
   "cell_type": "code",
   "execution_count": 879,
   "id": "bearing-portsmouth",
   "metadata": {},
   "outputs": [
    {
     "data": {
      "text/plain": [
       "'2.3.1'"
      ]
     },
     "execution_count": 879,
     "metadata": {},
     "output_type": "execute_result"
    }
   ],
   "source": [
    "import keras \n",
    "keras.__version__"
   ]
  },
  {
   "cell_type": "markdown",
   "id": "scenic-surname",
   "metadata": {},
   "source": [
    "# 数据提取"
   ]
  },
  {
   "cell_type": "code",
   "execution_count": 880,
   "id": "veterinary-strand",
   "metadata": {},
   "outputs": [],
   "source": [
    "import numpy as np\n",
    "import pandas as pd\n",
    "import matplotlib.pyplot as plt\n",
    "from sklearn.model_selection import train_test_split\n",
    "%matplotlib inline"
   ]
  },
  {
   "cell_type": "code",
   "execution_count": 881,
   "id": "close-holly",
   "metadata": {},
   "outputs": [],
   "source": [
    "data_train=pd.read_csv(\"../和鲸练习赛-民宿价格预测/data/训练集.csv\")\n",
    "data_test=pd.read_csv(\"../和鲸练习赛-民宿价格预测/data/测试集.csv\")"
   ]
  },
  {
   "cell_type": "code",
   "execution_count": 882,
   "id": "careful-continuity",
   "metadata": {},
   "outputs": [
    {
     "data": {
      "text/html": [
       "<div>\n",
       "<style scoped>\n",
       "    .dataframe tbody tr th:only-of-type {\n",
       "        vertical-align: middle;\n",
       "    }\n",
       "\n",
       "    .dataframe tbody tr th {\n",
       "        vertical-align: top;\n",
       "    }\n",
       "\n",
       "    .dataframe thead th {\n",
       "        text-align: right;\n",
       "    }\n",
       "</style>\n",
       "<table border=\"1\" class=\"dataframe\">\n",
       "  <thead>\n",
       "    <tr style=\"text-align: right;\">\n",
       "      <th></th>\n",
       "      <th>数据ID</th>\n",
       "      <th>容纳人数</th>\n",
       "      <th>便利设施</th>\n",
       "      <th>洗手间数量</th>\n",
       "      <th>床的数量</th>\n",
       "      <th>床的类型</th>\n",
       "      <th>卧室数量</th>\n",
       "      <th>取消条款</th>\n",
       "      <th>所在城市</th>\n",
       "      <th>清洁费</th>\n",
       "      <th>...</th>\n",
       "      <th>最近评论日期</th>\n",
       "      <th>维度</th>\n",
       "      <th>经度</th>\n",
       "      <th>民宿周边</th>\n",
       "      <th>评论个数</th>\n",
       "      <th>房产类型</th>\n",
       "      <th>民宿评分</th>\n",
       "      <th>房型</th>\n",
       "      <th>邮编</th>\n",
       "      <th>价格</th>\n",
       "    </tr>\n",
       "  </thead>\n",
       "  <tbody>\n",
       "    <tr>\n",
       "      <th>0</th>\n",
       "      <td>train_0</td>\n",
       "      <td>4</td>\n",
       "      <td>{TV,\"Cable TV\",Internet,\"Wireless Internet\",\"A...</td>\n",
       "      <td>1.5</td>\n",
       "      <td>3.0</td>\n",
       "      <td>4</td>\n",
       "      <td>2.0</td>\n",
       "      <td>0</td>\n",
       "      <td>3</td>\n",
       "      <td>0</td>\n",
       "      <td>...</td>\n",
       "      <td>2016-06-26</td>\n",
       "      <td>34.109039</td>\n",
       "      <td>-118.273390</td>\n",
       "      <td>Los Feliz</td>\n",
       "      <td>12</td>\n",
       "      <td>17</td>\n",
       "      <td>97.0</td>\n",
       "      <td>0</td>\n",
       "      <td>90027</td>\n",
       "      <td>64.918531</td>\n",
       "    </tr>\n",
       "    <tr>\n",
       "      <th>1</th>\n",
       "      <td>train_1</td>\n",
       "      <td>2</td>\n",
       "      <td>{TV,\"Wireless Internet\",Kitchen,\"Free parking ...</td>\n",
       "      <td>1.0</td>\n",
       "      <td>1.0</td>\n",
       "      <td>4</td>\n",
       "      <td>1.0</td>\n",
       "      <td>2</td>\n",
       "      <td>4</td>\n",
       "      <td>1</td>\n",
       "      <td>...</td>\n",
       "      <td>2016-07-31</td>\n",
       "      <td>40.812897</td>\n",
       "      <td>-73.919163</td>\n",
       "      <td>Mott Haven</td>\n",
       "      <td>6</td>\n",
       "      <td>0</td>\n",
       "      <td>87.0</td>\n",
       "      <td>0</td>\n",
       "      <td>10454</td>\n",
       "      <td>54.918531</td>\n",
       "    </tr>\n",
       "    <tr>\n",
       "      <th>2</th>\n",
       "      <td>train_2</td>\n",
       "      <td>4</td>\n",
       "      <td>{TV,\"Air conditioning\",Kitchen,Heating,\"Smoke ...</td>\n",
       "      <td>1.0</td>\n",
       "      <td>2.0</td>\n",
       "      <td>4</td>\n",
       "      <td>0.0</td>\n",
       "      <td>2</td>\n",
       "      <td>4</td>\n",
       "      <td>1</td>\n",
       "      <td>...</td>\n",
       "      <td>2017-07-31</td>\n",
       "      <td>40.737643</td>\n",
       "      <td>-73.953309</td>\n",
       "      <td>Greenpoint</td>\n",
       "      <td>4</td>\n",
       "      <td>0</td>\n",
       "      <td>80.0</td>\n",
       "      <td>0</td>\n",
       "      <td>11222</td>\n",
       "      <td>73.219281</td>\n",
       "    </tr>\n",
       "    <tr>\n",
       "      <th>3</th>\n",
       "      <td>train_3</td>\n",
       "      <td>2</td>\n",
       "      <td>{}</td>\n",
       "      <td>1.0</td>\n",
       "      <td>1.0</td>\n",
       "      <td>4</td>\n",
       "      <td>1.0</td>\n",
       "      <td>0</td>\n",
       "      <td>5</td>\n",
       "      <td>1</td>\n",
       "      <td>...</td>\n",
       "      <td>NaN</td>\n",
       "      <td>37.759935</td>\n",
       "      <td>-122.420558</td>\n",
       "      <td>Mission District</td>\n",
       "      <td>0</td>\n",
       "      <td>0</td>\n",
       "      <td>NaN</td>\n",
       "      <td>1</td>\n",
       "      <td>94110</td>\n",
       "      <td>64.093909</td>\n",
       "    </tr>\n",
       "    <tr>\n",
       "      <th>4</th>\n",
       "      <td>train_4</td>\n",
       "      <td>3</td>\n",
       "      <td>{Internet,\"Wireless Internet\",\"Air conditionin...</td>\n",
       "      <td>1.0</td>\n",
       "      <td>1.0</td>\n",
       "      <td>4</td>\n",
       "      <td>1.0</td>\n",
       "      <td>1</td>\n",
       "      <td>4</td>\n",
       "      <td>1</td>\n",
       "      <td>...</td>\n",
       "      <td>2016-05-22</td>\n",
       "      <td>40.683363</td>\n",
       "      <td>-73.949490</td>\n",
       "      <td>Bedford-Stuyvesant</td>\n",
       "      <td>16</td>\n",
       "      <td>0</td>\n",
       "      <td>99.0</td>\n",
       "      <td>0</td>\n",
       "      <td>11216</td>\n",
       "      <td>68.454901</td>\n",
       "    </tr>\n",
       "  </tbody>\n",
       "</table>\n",
       "<p>5 rows × 26 columns</p>\n",
       "</div>"
      ],
      "text/plain": [
       "      数据ID  容纳人数                                               便利设施  洗手间数量  \\\n",
       "0  train_0     4  {TV,\"Cable TV\",Internet,\"Wireless Internet\",\"A...    1.5   \n",
       "1  train_1     2  {TV,\"Wireless Internet\",Kitchen,\"Free parking ...    1.0   \n",
       "2  train_2     4  {TV,\"Air conditioning\",Kitchen,Heating,\"Smoke ...    1.0   \n",
       "3  train_3     2                                                 {}    1.0   \n",
       "4  train_4     3  {Internet,\"Wireless Internet\",\"Air conditionin...    1.0   \n",
       "\n",
       "   床的数量  床的类型  卧室数量  取消条款  所在城市  清洁费  ...      最近评论日期         维度          经度  \\\n",
       "0   3.0     4   2.0     0     3    0  ...  2016-06-26  34.109039 -118.273390   \n",
       "1   1.0     4   1.0     2     4    1  ...  2016-07-31  40.812897  -73.919163   \n",
       "2   2.0     4   0.0     2     4    1  ...  2017-07-31  40.737643  -73.953309   \n",
       "3   1.0     4   1.0     0     5    1  ...         NaN  37.759935 -122.420558   \n",
       "4   1.0     4   1.0     1     4    1  ...  2016-05-22  40.683363  -73.949490   \n",
       "\n",
       "                 民宿周边 评论个数  房产类型  民宿评分  房型     邮编         价格  \n",
       "0           Los Feliz   12    17  97.0   0  90027  64.918531  \n",
       "1          Mott Haven    6     0  87.0   0  10454  54.918531  \n",
       "2          Greenpoint    4     0  80.0   0  11222  73.219281  \n",
       "3    Mission District    0     0   NaN   1  94110  64.093909  \n",
       "4  Bedford-Stuyvesant   16     0  99.0   0  11216  68.454901  \n",
       "\n",
       "[5 rows x 26 columns]"
      ]
     },
     "execution_count": 882,
     "metadata": {},
     "output_type": "execute_result"
    }
   ],
   "source": [
    "data_train.head(5)"
   ]
  },
  {
   "cell_type": "markdown",
   "id": "civilian-violation",
   "metadata": {},
   "source": [
    "# 数据处理"
   ]
  },
  {
   "cell_type": "markdown",
   "id": "experimental-wages",
   "metadata": {},
   "source": [
    "## 便利设施属性处理"
   ]
  },
  {
   "cell_type": "code",
   "execution_count": 883,
   "id": "flying-fight",
   "metadata": {},
   "outputs": [],
   "source": [
    "def str_count(strr):\n",
    "    a=strr.count(\",\")\n",
    "    return a\n",
    "data_train[\"便利设施\"]=data_train[\"便利设施\"].apply(lambda x: str_count(x))\n",
    "data_test[\"便利设施\"]=data_test[\"便利设施\"].apply(lambda x: str_count(x))"
   ]
  },
  {
   "cell_type": "markdown",
   "id": "comic-membrane",
   "metadata": {},
   "source": [
    "## 首次评论日期属性处理"
   ]
  },
  {
   "cell_type": "code",
   "execution_count": 884,
   "id": "adaptive-concentration",
   "metadata": {},
   "outputs": [
    {
     "name": "stdout",
     "output_type": "stream",
     "text": [
      "0        2169.0\n",
      "1        1747.0\n",
      "2        1383.0\n",
      "3           NaN\n",
      "4        2541.0\n",
      "          ...  \n",
      "59283    1565.0\n",
      "59284    2166.0\n",
      "59285    1903.0\n",
      "59286       NaN\n",
      "59287    1641.0\n",
      "Name: 首次评论日期, Length: 59288, dtype: float64\n",
      "0        2151.0\n",
      "1        1983.0\n",
      "2        1430.0\n",
      "3        3075.0\n",
      "4        1517.0\n",
      "          ...  \n",
      "14818    1577.0\n",
      "14819    1834.0\n",
      "14820       NaN\n",
      "14821    1863.0\n",
      "14822    2012.0\n",
      "Name: 首次评论日期, Length: 14823, dtype: float64\n"
     ]
    }
   ],
   "source": [
    "from datetime import datetime\n",
    "from datetime import timedelta\n",
    "def days(x):\n",
    "    x=(now-x).days\n",
    "    return x\n",
    "data_train[\"首次评论日期\"]=pd.to_datetime(data_train[\"首次评论日期\"])\n",
    "now=datetime.now()\n",
    "data_train[\"首次评论日期\"]=data_train[\"首次评论日期\"].apply(lambda x: days(x))\n",
    "print(data_train[\"首次评论日期\"])\n",
    "data_test[\"首次评论日期\"]=pd.to_datetime(data_test[\"首次评论日期\"])\n",
    "data_test[\"首次评论日期\"]=data_test[\"首次评论日期\"].apply(lambda x: days(x))\n",
    "print(data_test[\"首次评论日期\"])"
   ]
  },
  {
   "cell_type": "markdown",
   "id": "naughty-jimmy",
   "metadata": {},
   "source": [
    "## 何时成为房主属性处理"
   ]
  },
  {
   "cell_type": "code",
   "execution_count": 885,
   "id": "danish-civilization",
   "metadata": {},
   "outputs": [
    {
     "name": "stdout",
     "output_type": "stream",
     "text": [
      "0        2240.0\n",
      "1        4187.0\n",
      "2        1385.0\n",
      "3        2948.0\n",
      "4        3546.0\n",
      "          ...  \n",
      "59283    3236.0\n",
      "59284    3175.0\n",
      "59285    3233.0\n",
      "59286    3695.0\n",
      "59287    2147.0\n",
      "Name: 何时成为房主, Length: 59288, dtype: float64\n",
      "0        2156.0\n",
      "1        2045.0\n",
      "2        1439.0\n",
      "3        4450.0\n",
      "4        2003.0\n",
      "          ...  \n",
      "14818    1642.0\n",
      "14819    1953.0\n",
      "14820    2035.0\n",
      "14821    3125.0\n",
      "14822    2373.0\n",
      "Name: 何时成为房主, Length: 14823, dtype: float64\n"
     ]
    }
   ],
   "source": [
    "data_train[\"何时成为房主\"]=pd.to_datetime(data_train[\"何时成为房主\"])\n",
    "now=datetime.now()\n",
    "data_train[\"何时成为房主\"]=data_train[\"何时成为房主\"].apply(lambda x: days(x))\n",
    "print(data_train[\"何时成为房主\"])\n",
    "data_test[\"何时成为房主\"]=pd.to_datetime(data_test[\"何时成为房主\"])\n",
    "data_test[\"何时成为房主\"]=data_test[\"何时成为房主\"].apply(lambda x: days(x))\n",
    "print(data_test[\"何时成为房主\"])"
   ]
  },
  {
   "cell_type": "markdown",
   "id": "aggressive-combat",
   "metadata": {},
   "source": [
    "## 最近评论日期属性处理"
   ]
  },
  {
   "cell_type": "code",
   "execution_count": 886,
   "id": "academic-disposal",
   "metadata": {},
   "outputs": [
    {
     "name": "stdout",
     "output_type": "stream",
     "text": [
      "0        1753.0\n",
      "1        1718.0\n",
      "2        1353.0\n",
      "3           NaN\n",
      "4        1788.0\n",
      "          ...  \n",
      "59283    1565.0\n",
      "59284    1662.0\n",
      "59285    1493.0\n",
      "59286       NaN\n",
      "59287    1519.0\n",
      "Name: 最近评论日期, Length: 59288, dtype: float64\n",
      "0        1564.0\n",
      "1        1977.0\n",
      "2        1297.0\n",
      "3        1355.0\n",
      "4        1481.0\n",
      "          ...  \n",
      "14818    1305.0\n",
      "14819    1560.0\n",
      "14820       NaN\n",
      "14821    1480.0\n",
      "14822    2012.0\n",
      "Name: 最近评论日期, Length: 14823, dtype: float64\n"
     ]
    }
   ],
   "source": [
    "data_train[\"最近评论日期\"]=pd.to_datetime(data_train[\"最近评论日期\"])\n",
    "now=datetime.now()\n",
    "data_train[\"最近评论日期\"]=data_train[\"最近评论日期\"].apply(lambda x: days(x))\n",
    "print(data_train[\"最近评论日期\"])\n",
    "data_test[\"最近评论日期\"]=pd.to_datetime(data_test[\"最近评论日期\"])\n",
    "data_test[\"最近评论日期\"]=data_test[\"最近评论日期\"].apply(lambda x: days(x))\n",
    "print(data_test[\"最近评论日期\"])"
   ]
  },
  {
   "cell_type": "markdown",
   "id": "disciplinary-equation",
   "metadata": {},
   "source": [
    "## 民宿周边属性处理"
   ]
  },
  {
   "cell_type": "code",
   "execution_count": 887,
   "id": "industrial-disabled",
   "metadata": {},
   "outputs": [
    {
     "data": {
      "text/plain": [
       "0                 Los Feliz\n",
       "1                Mott Haven\n",
       "2                Greenpoint\n",
       "3          Mission District\n",
       "4        Bedford-Stuyvesant\n",
       "                ...        \n",
       "59283        East Hollywood\n",
       "59284                   NaN\n",
       "59285             Hollywood\n",
       "59286       Upper East Side\n",
       "59287             Echo Park\n",
       "Name: 民宿周边, Length: 59288, dtype: object"
      ]
     },
     "execution_count": 887,
     "metadata": {},
     "output_type": "execute_result"
    }
   ],
   "source": [
    "data_train[\"民宿周边\"]"
   ]
  },
  {
   "cell_type": "code",
   "execution_count": 888,
   "id": "disabled-apollo",
   "metadata": {},
   "outputs": [],
   "source": [
    "from sklearn.preprocessing import LabelEncoder\n",
    "le=LabelEncoder()\n",
    "data_train[\"民宿周边\"]=le.fit_transform(data_train[\"民宿周边\"])\n",
    "data_test[\"民宿周边\"]=le.fit_transform(data_test[\"民宿周边\"])"
   ]
  },
  {
   "cell_type": "markdown",
   "id": "textile-tucson",
   "metadata": {},
   "source": [
    "## 房主是否有个人资料图片属性处理"
   ]
  },
  {
   "cell_type": "code",
   "execution_count": 889,
   "id": "concrete-mediterranean",
   "metadata": {},
   "outputs": [
    {
     "data": {
      "text/plain": [
       "0        t\n",
       "1        t\n",
       "2        t\n",
       "3        t\n",
       "4        t\n",
       "        ..\n",
       "59283    t\n",
       "59284    t\n",
       "59285    t\n",
       "59286    t\n",
       "59287    t\n",
       "Name: 房主是否有个人资料图片, Length: 59288, dtype: object"
      ]
     },
     "execution_count": 889,
     "metadata": {},
     "output_type": "execute_result"
    }
   ],
   "source": [
    "data_train[\"房主是否有个人资料图片\"]"
   ]
  },
  {
   "cell_type": "code",
   "execution_count": 890,
   "id": "mature-italy",
   "metadata": {},
   "outputs": [],
   "source": [
    "data_train[\"房主是否有个人资料图片\"]=le.fit_transform(data_train[\"房主是否有个人资料图片\"])\n",
    "data_test[\"房主是否有个人资料图片\"]=le.fit_transform(data_test[\"房主是否有个人资料图片\"])"
   ]
  },
  {
   "cell_type": "markdown",
   "id": "prepared-curtis",
   "metadata": {},
   "source": [
    "## 房主身份是否验证属性处理"
   ]
  },
  {
   "cell_type": "code",
   "execution_count": 891,
   "id": "broken-explanation",
   "metadata": {},
   "outputs": [
    {
     "data": {
      "text/plain": [
       "0        t\n",
       "1        t\n",
       "2        f\n",
       "3        t\n",
       "4        t\n",
       "        ..\n",
       "59283    f\n",
       "59284    f\n",
       "59285    t\n",
       "59286    t\n",
       "59287    t\n",
       "Name: 房主身份是否验证, Length: 59288, dtype: object"
      ]
     },
     "execution_count": 891,
     "metadata": {},
     "output_type": "execute_result"
    }
   ],
   "source": [
    "data_train[\"房主身份是否验证\"]"
   ]
  },
  {
   "cell_type": "code",
   "execution_count": 892,
   "id": "czech-approach",
   "metadata": {},
   "outputs": [],
   "source": [
    "data_train[\"房主身份是否验证\"]=le.fit_transform(data_train[\"房主身份是否验证\"])\n",
    "data_test[\"房主身份是否验证\"]=le.fit_transform(data_test[\"房主身份是否验证\"])"
   ]
  },
  {
   "cell_type": "markdown",
   "id": "adjustable-watson",
   "metadata": {},
   "source": [
    "## 房主回复率属性处理"
   ]
  },
  {
   "cell_type": "code",
   "execution_count": 893,
   "id": "separated-links",
   "metadata": {},
   "outputs": [],
   "source": [
    "def string_into_float(s):\n",
    "    s=str(s)\n",
    "    a=float(s.rstrip('%'))/100\n",
    "    return a"
   ]
  },
  {
   "cell_type": "code",
   "execution_count": 894,
   "id": "parallel-blade",
   "metadata": {},
   "outputs": [],
   "source": [
    "data_train[\"房主回复率\"]=data_train[\"房主回复率\"].apply(lambda x: string_into_float(x))\n",
    "data_test[\"房主回复率\"]=data_test[\"房主回复率\"].apply(lambda x: string_into_float(x))"
   ]
  },
  {
   "cell_type": "markdown",
   "id": "working-warrior",
   "metadata": {},
   "source": [
    "## 邮编属性处理"
   ]
  },
  {
   "cell_type": "code",
   "execution_count": 895,
   "id": "extensive-source",
   "metadata": {},
   "outputs": [
    {
     "data": {
      "text/plain": [
       "0        90027\n",
       "1        10454\n",
       "2        11222\n",
       "3        94110\n",
       "4        11216\n",
       "         ...  \n",
       "59283    90029\n",
       "59284    91301\n",
       "59285    90038\n",
       "59286    10021\n",
       "59287    90012\n",
       "Name: 邮编, Length: 59288, dtype: object"
      ]
     },
     "execution_count": 895,
     "metadata": {},
     "output_type": "execute_result"
    }
   ],
   "source": [
    "data_train[\"邮编\"]"
   ]
  },
  {
   "cell_type": "markdown",
   "id": "czech-sociology",
   "metadata": {},
   "source": [
    "邮编属性较其他属性来说没有用处，因为在数据集中，已经有城市和经纬度作为定位方式了"
   ]
  },
  {
   "cell_type": "code",
   "execution_count": 896,
   "id": "necessary-uncle",
   "metadata": {},
   "outputs": [],
   "source": [
    "# def string_into_float2(s):\n",
    "#     s=str(s)\n",
    "#     s=s.replace(\"-\",\"\")\n",
    "#     s=s.replace(\"1m\",\"0\")\n",
    "#     a=float(s)\n",
    "#     return a"
   ]
  },
  {
   "cell_type": "code",
   "execution_count": 897,
   "id": "durable-disposal",
   "metadata": {},
   "outputs": [],
   "source": [
    "# data_train[\"邮编\"]=data_train[\"邮编\"].apply(lambda x: string_into_float2(x))\n",
    "# data_test[\"邮编\"]=data_test[\"邮编\"].apply(lambda x: string_into_float2(x))"
   ]
  },
  {
   "cell_type": "markdown",
   "id": "copyrighted-petroleum",
   "metadata": {},
   "source": [
    "## 填补总体的缺失值"
   ]
  },
  {
   "cell_type": "code",
   "execution_count": 898,
   "id": "completed-mustang",
   "metadata": {},
   "outputs": [
    {
     "data": {
      "text/plain": [
       "数据ID           False\n",
       "容纳人数           False\n",
       "便利设施           False\n",
       "洗手间数量           True\n",
       "床的数量            True\n",
       "床的类型           False\n",
       "卧室数量            True\n",
       "取消条款           False\n",
       "所在城市           False\n",
       "清洁费            False\n",
       "首次评论日期          True\n",
       "房主是否有个人资料图片    False\n",
       "房主身份是否验证       False\n",
       "房主回复率           True\n",
       "何时成为房主          True\n",
       "是否支持随即预订       False\n",
       "最近评论日期          True\n",
       "维度             False\n",
       "经度             False\n",
       "民宿周边           False\n",
       "评论个数           False\n",
       "房产类型           False\n",
       "民宿评分            True\n",
       "房型             False\n",
       "邮编              True\n",
       "价格             False\n",
       "dtype: bool"
      ]
     },
     "execution_count": 898,
     "metadata": {},
     "output_type": "execute_result"
    }
   ],
   "source": [
    "data_train.isnull().any()"
   ]
  },
  {
   "cell_type": "code",
   "execution_count": 899,
   "id": "swedish-vanilla",
   "metadata": {},
   "outputs": [],
   "source": [
    "data_train.fillna(value=-1,inplace=True)"
   ]
  },
  {
   "cell_type": "code",
   "execution_count": 900,
   "id": "announced-steering",
   "metadata": {},
   "outputs": [
    {
     "data": {
      "text/plain": [
       "数据ID           False\n",
       "容纳人数           False\n",
       "便利设施           False\n",
       "洗手间数量          False\n",
       "床的数量           False\n",
       "床的类型           False\n",
       "卧室数量           False\n",
       "取消条款           False\n",
       "所在城市           False\n",
       "清洁费            False\n",
       "首次评论日期         False\n",
       "房主是否有个人资料图片    False\n",
       "房主身份是否验证       False\n",
       "房主回复率          False\n",
       "何时成为房主         False\n",
       "是否支持随即预订       False\n",
       "最近评论日期         False\n",
       "维度             False\n",
       "经度             False\n",
       "民宿周边           False\n",
       "评论个数           False\n",
       "房产类型           False\n",
       "民宿评分           False\n",
       "房型             False\n",
       "邮编             False\n",
       "价格             False\n",
       "dtype: bool"
      ]
     },
     "execution_count": 900,
     "metadata": {},
     "output_type": "execute_result"
    }
   ],
   "source": [
    "data_train.isnull().any()"
   ]
  },
  {
   "cell_type": "markdown",
   "id": "empty-robertson",
   "metadata": {},
   "source": [
    "# 建模"
   ]
  },
  {
   "cell_type": "markdown",
   "id": "expired-intervention",
   "metadata": {},
   "source": [
    "## 获取X和y"
   ]
  },
  {
   "cell_type": "code",
   "execution_count": 901,
   "id": "useful-fitness",
   "metadata": {},
   "outputs": [],
   "source": [
    "X=data_train.drop([\"价格\",\"邮编\"],axis=1)\n",
    "X=X.iloc[:,1:]\n",
    "y=data_train[\"价格\"]\n",
    "from sklearn.preprocessing import MinMaxScaler\n",
    "mm=MinMaxScaler()\n",
    "X=mm.fit_transform(X)\n",
    "X_train,X_test,y_train,y_test=train_test_split(X,y,test_size=0.3,random_state=90)"
   ]
  },
  {
   "cell_type": "code",
   "execution_count": 902,
   "id": "small-penny",
   "metadata": {},
   "outputs": [
    {
     "data": {
      "text/plain": [
       "(41501, 23)"
      ]
     },
     "execution_count": 902,
     "metadata": {},
     "output_type": "execute_result"
    }
   ],
   "source": [
    "X_train.shape"
   ]
  },
  {
   "cell_type": "markdown",
   "id": "lightweight-setup",
   "metadata": {},
   "source": [
    "## 定制RMSE函数"
   ]
  },
  {
   "cell_type": "code",
   "execution_count": 903,
   "id": "early-sleeve",
   "metadata": {},
   "outputs": [],
   "source": [
    "from keras import backend\n",
    "\n",
    "def rmse(y_true, y_pred):\n",
    "    return backend.sqrt(backend.mean(backend.square(y_pred - y_true), axis=-1))"
   ]
  },
  {
   "cell_type": "markdown",
   "id": "recent-runner",
   "metadata": {},
   "source": [
    "## 设置Earlystopping"
   ]
  },
  {
   "cell_type": "code",
   "execution_count": 904,
   "id": "indian-surface",
   "metadata": {},
   "outputs": [],
   "source": [
    "from keras.callbacks import EarlyStopping\n",
    "my_callbacks=EarlyStopping(monitor='val_rmse',patience=4,mode='min',min_delta=0.00001)"
   ]
  },
  {
   "cell_type": "code",
   "execution_count": 905,
   "id": "documented-marble",
   "metadata": {},
   "outputs": [
    {
     "name": "stdout",
     "output_type": "stream",
     "text": [
      "Model: \"sequential_32\"\n",
      "_________________________________________________________________\n",
      "Layer (type)                 Output Shape              Param #   \n",
      "=================================================================\n",
      "dense_121 (Dense)            (None, 64)                1536      \n",
      "_________________________________________________________________\n",
      "dense_122 (Dense)            (None, 128)               8320      \n",
      "_________________________________________________________________\n",
      "dense_123 (Dense)            (None, 64)                8256      \n",
      "_________________________________________________________________\n",
      "dense_124 (Dense)            (None, 32)                2080      \n",
      "_________________________________________________________________\n",
      "dense_125 (Dense)            (None, 16)                528       \n",
      "_________________________________________________________________\n",
      "dense_126 (Dense)            (None, 1)                 17        \n",
      "=================================================================\n",
      "Total params: 20,737\n",
      "Trainable params: 20,737\n",
      "Non-trainable params: 0\n",
      "_________________________________________________________________\n"
     ]
    }
   ],
   "source": [
    "from keras import layers,models\n",
    "from keras import optimizers\n",
    "from keras import regularizers\n",
    "model=models.Sequential()\n",
    "model.add(layers.Dense(64,input_dim=23,activation=\"relu\",kernel_regularizer=regularizers.l2(0.01)))\n",
    "model.add(layers.Dense(128,activation=\"relu\",kernel_regularizer=regularizers.l2(0.01)))\n",
    "model.add(layers.Dense(64,activation=\"relu\",kernel_regularizer=regularizers.l2(0.01)))\n",
    "model.add(layers.Dense(32,activation=\"relu\",kernel_regularizer=regularizers.l2(0.01)))\n",
    "model.add(layers.Dense(16,activation=\"relu\",kernel_regularizer=regularizers.l2(0.01)))\n",
    "model.add(layers.Dense(1))\n",
    "adam=optimizers.Adam(lr=0.001)\n",
    "model.compile(optimizer=adam, loss='mse', metrics=[rmse])\n",
    "model.summary()"
   ]
  },
  {
   "cell_type": "code",
   "execution_count": 906,
   "id": "third-sussex",
   "metadata": {
    "scrolled": true
   },
   "outputs": [
    {
     "name": "stderr",
     "output_type": "stream",
     "text": [
      "/Users/rexa/opt/anaconda3/envs/tensorflow/lib/python3.7/site-packages/ipykernel_launcher.py:1: UserWarning: The `nb_epoch` argument in `fit` has been renamed `epochs`.\n",
      "  \"\"\"Entry point for launching an IPython kernel.\n"
     ]
    },
    {
     "name": "stdout",
     "output_type": "stream",
     "text": [
      "Train on 41501 samples, validate on 17787 samples\n",
      "Epoch 1/50\n",
      "41501/41501 [==============================] - 12s 286us/step - loss: 130.9522 - rmse: 6.7032 - val_loss: 48.8128 - val_rmse: 5.2194\n",
      "Epoch 2/50\n",
      "41501/41501 [==============================] - 11s 254us/step - loss: 49.9300 - rmse: 5.2577 - val_loss: 49.8326 - val_rmse: 5.3607\n",
      "Epoch 3/50\n",
      "41501/41501 [==============================] - 10s 251us/step - loss: 48.3383 - rmse: 5.1743 - val_loss: 48.7374 - val_rmse: 5.1152\n",
      "Epoch 4/50\n",
      "41501/41501 [==============================] - 11s 256us/step - loss: 48.0485 - rmse: 5.1603 - val_loss: 53.4614 - val_rmse: 5.6692\n",
      "Epoch 5/50\n",
      "41501/41501 [==============================] - 11s 256us/step - loss: 47.1432 - rmse: 5.1142 - val_loss: 48.1420 - val_rmse: 5.2668\n",
      "Epoch 6/50\n",
      "41501/41501 [==============================] - 11s 256us/step - loss: 47.0114 - rmse: 5.1115 - val_loss: 44.2625 - val_rmse: 4.9243\n",
      "Epoch 7/50\n",
      "41501/41501 [==============================] - 11s 254us/step - loss: 46.4738 - rmse: 5.0814 - val_loss: 44.3154 - val_rmse: 4.9257\n",
      "Epoch 8/50\n",
      "41501/41501 [==============================] - 10s 253us/step - loss: 46.0823 - rmse: 5.0654 - val_loss: 43.9971 - val_rmse: 4.9617\n",
      "Epoch 9/50\n",
      "41501/41501 [==============================] - 10s 252us/step - loss: 46.0642 - rmse: 5.0671 - val_loss: 46.6941 - val_rmse: 5.0152\n",
      "Epoch 10/50\n",
      "41501/41501 [==============================] - 11s 254us/step - loss: 45.9434 - rmse: 5.0686 - val_loss: 44.5887 - val_rmse: 4.9101\n",
      "Epoch 11/50\n",
      "41501/41501 [==============================] - 11s 254us/step - loss: 45.0572 - rmse: 5.0136 - val_loss: 45.0542 - val_rmse: 4.9723\n",
      "Epoch 12/50\n",
      "41501/41501 [==============================] - 10s 253us/step - loss: 45.3327 - rmse: 5.0283 - val_loss: 45.0829 - val_rmse: 4.9317\n",
      "Epoch 13/50\n",
      "41501/41501 [==============================] - 11s 255us/step - loss: 44.6302 - rmse: 4.9850 - val_loss: 44.0262 - val_rmse: 4.8926\n",
      "Epoch 14/50\n",
      "41501/41501 [==============================] - 11s 261us/step - loss: 44.7040 - rmse: 4.9938 - val_loss: 42.8684 - val_rmse: 4.8613\n",
      "Epoch 15/50\n",
      "41501/41501 [==============================] - 11s 255us/step - loss: 44.8359 - rmse: 5.0076 - val_loss: 43.6205 - val_rmse: 4.9240\n",
      "Epoch 16/50\n",
      "41501/41501 [==============================] - 11s 259us/step - loss: 44.5397 - rmse: 4.9824 - val_loss: 43.0161 - val_rmse: 4.8540\n",
      "Epoch 17/50\n",
      "41501/41501 [==============================] - 11s 256us/step - loss: 44.5443 - rmse: 4.9911 - val_loss: 46.9663 - val_rmse: 5.2115\n",
      "Epoch 18/50\n",
      "41501/41501 [==============================] - 11s 258us/step - loss: 44.2188 - rmse: 4.9654 - val_loss: 42.4951 - val_rmse: 4.8522\n",
      "Epoch 19/50\n",
      "41501/41501 [==============================] - 11s 256us/step - loss: 44.1483 - rmse: 4.9643 - val_loss: 44.4114 - val_rmse: 4.9044\n",
      "Epoch 20/50\n",
      "41501/41501 [==============================] - 11s 257us/step - loss: 44.1872 - rmse: 4.9648 - val_loss: 42.4220 - val_rmse: 4.8550\n",
      "Epoch 21/50\n",
      "41501/41501 [==============================] - 11s 260us/step - loss: 44.0980 - rmse: 4.9547 - val_loss: 43.1901 - val_rmse: 4.8396\n",
      "Epoch 22/50\n",
      "41501/41501 [==============================] - 11s 257us/step - loss: 44.0076 - rmse: 4.9586 - val_loss: 42.2938 - val_rmse: 4.8360\n",
      "Epoch 23/50\n",
      "41501/41501 [==============================] - 11s 260us/step - loss: 44.0062 - rmse: 4.9537 - val_loss: 42.7585 - val_rmse: 4.8830\n",
      "Epoch 24/50\n",
      "41501/41501 [==============================] - 11s 259us/step - loss: 43.8396 - rmse: 4.9496 - val_loss: 43.3884 - val_rmse: 4.9001\n",
      "Epoch 25/50\n",
      "41501/41501 [==============================] - 11s 258us/step - loss: 44.1007 - rmse: 4.9698 - val_loss: 42.7613 - val_rmse: 4.8534\n",
      "Epoch 26/50\n",
      "41501/41501 [==============================] - 11s 259us/step - loss: 43.8741 - rmse: 4.9504 - val_loss: 44.1840 - val_rmse: 4.9570\n",
      "Epoch 27/50\n",
      "41501/41501 [==============================] - 11s 261us/step - loss: 43.8238 - rmse: 4.9447 - val_loss: 47.7362 - val_rmse: 5.1062\n",
      "Epoch 28/50\n",
      "41501/41501 [==============================] - 11s 262us/step - loss: 43.4930 - rmse: 4.9211 - val_loss: 42.8112 - val_rmse: 4.9062\n",
      "Epoch 29/50\n",
      "41501/41501 [==============================] - 11s 259us/step - loss: 43.6020 - rmse: 4.9308 - val_loss: 43.9270 - val_rmse: 4.9083\n",
      "Epoch 30/50\n",
      "41501/41501 [==============================] - 11s 260us/step - loss: 43.3237 - rmse: 4.9163 - val_loss: 43.1831 - val_rmse: 4.8949\n",
      "Epoch 31/50\n",
      "41501/41501 [==============================] - 11s 262us/step - loss: 43.4994 - rmse: 4.9239 - val_loss: 42.3597 - val_rmse: 4.8302\n",
      "Epoch 32/50\n",
      "41501/41501 [==============================] - 11s 263us/step - loss: 43.4153 - rmse: 4.9284 - val_loss: 43.0003 - val_rmse: 4.9003\n",
      "Epoch 33/50\n",
      "41501/41501 [==============================] - 11s 266us/step - loss: 43.2335 - rmse: 4.9100 - val_loss: 43.0850 - val_rmse: 4.9369\n",
      "Epoch 34/50\n",
      "41501/41501 [==============================] - 11s 262us/step - loss: 43.1742 - rmse: 4.9068 - val_loss: 42.1955 - val_rmse: 4.8558\n",
      "Epoch 35/50\n",
      "41501/41501 [==============================] - 11s 262us/step - loss: 43.3546 - rmse: 4.9171 - val_loss: 43.0874 - val_rmse: 4.9344\n",
      "Epoch 36/50\n",
      "41501/41501 [==============================] - 11s 263us/step - loss: 43.2565 - rmse: 4.9068 - val_loss: 43.8374 - val_rmse: 5.0029\n",
      "Epoch 37/50\n",
      "41501/41501 [==============================] - 11s 263us/step - loss: 43.2993 - rmse: 4.9085 - val_loss: 42.8646 - val_rmse: 4.9187\n",
      "Epoch 38/50\n",
      "41501/41501 [==============================] - 11s 264us/step - loss: 42.9888 - rmse: 4.8944 - val_loss: 42.8124 - val_rmse: 4.8834\n",
      "Epoch 39/50\n",
      "41501/41501 [==============================] - 11s 263us/step - loss: 43.2836 - rmse: 4.9109 - val_loss: 42.4722 - val_rmse: 4.8677\n",
      "Epoch 40/50\n",
      "41501/41501 [==============================] - 11s 262us/step - loss: 42.9159 - rmse: 4.8887 - val_loss: 43.0980 - val_rmse: 4.9299\n",
      "Epoch 41/50\n",
      "41501/41501 [==============================] - 11s 263us/step - loss: 42.9692 - rmse: 4.8970 - val_loss: 42.9623 - val_rmse: 4.8434\n",
      "Epoch 42/50\n",
      "41501/41501 [==============================] - 11s 263us/step - loss: 43.2427 - rmse: 4.9123 - val_loss: 44.6667 - val_rmse: 4.9253\n",
      "Epoch 43/50\n",
      "41501/41501 [==============================] - 11s 268us/step - loss: 42.9473 - rmse: 4.8940 - val_loss: 46.2965 - val_rmse: 5.2006\n",
      "Epoch 44/50\n",
      "41501/41501 [==============================] - 11s 262us/step - loss: 42.8836 - rmse: 4.8935 - val_loss: 44.9207 - val_rmse: 4.9684\n",
      "Epoch 45/50\n",
      "41501/41501 [==============================] - 11s 264us/step - loss: 43.0036 - rmse: 4.8937 - val_loss: 48.4690 - val_rmse: 5.1123\n",
      "Epoch 46/50\n",
      "41501/41501 [==============================] - 11s 265us/step - loss: 42.9601 - rmse: 4.8922 - val_loss: 42.4134 - val_rmse: 4.8532\n",
      "Epoch 47/50\n",
      "41501/41501 [==============================] - 11s 264us/step - loss: 42.9316 - rmse: 4.8979 - val_loss: 42.2078 - val_rmse: 4.8366\n",
      "Epoch 48/50\n",
      "41501/41501 [==============================] - 11s 263us/step - loss: 43.0408 - rmse: 4.9008 - val_loss: 42.0796 - val_rmse: 4.8272\n",
      "Epoch 49/50\n",
      "41501/41501 [==============================] - 11s 265us/step - loss: 42.8855 - rmse: 4.8923 - val_loss: 42.6084 - val_rmse: 4.8785\n",
      "Epoch 50/50\n",
      "41501/41501 [==============================] - 11s 263us/step - loss: 42.8654 - rmse: 4.8891 - val_loss: 43.0334 - val_rmse: 4.8557\n"
     ]
    }
   ],
   "source": [
    "history=model.fit(X_train,y_train,nb_epoch =50, batch_size =16,validation_data=(X_test,y_test))"
   ]
  },
  {
   "cell_type": "markdown",
   "id": "challenging-defensive",
   "metadata": {},
   "source": [
    "## 可视化"
   ]
  },
  {
   "cell_type": "code",
   "execution_count": 907,
   "id": "revised-resident",
   "metadata": {},
   "outputs": [
    {
     "data": {
      "text/plain": [
       "{'val_loss': [48.812753266774024,\n",
       "  49.83258690600546,\n",
       "  48.737386597009106,\n",
       "  53.461371609846566,\n",
       "  48.142007312291035,\n",
       "  44.262488602533,\n",
       "  44.315415822736476,\n",
       "  43.99709074226594,\n",
       "  46.69408250773222,\n",
       "  44.58873396262408,\n",
       "  45.05419387813094,\n",
       "  45.082936366332106,\n",
       "  44.026182535091834,\n",
       "  42.86841208516442,\n",
       "  43.620456356701204,\n",
       "  43.01606656659639,\n",
       "  46.96632138725852,\n",
       "  42.495083379163745,\n",
       "  44.41141700969818,\n",
       "  42.42201558297163,\n",
       "  43.190059941528204,\n",
       "  42.29381773342751,\n",
       "  42.75852960174881,\n",
       "  43.388394540267846,\n",
       "  42.761320274019745,\n",
       "  44.18402677272111,\n",
       "  47.736159752022054,\n",
       "  42.81121482276498,\n",
       "  43.92700474353519,\n",
       "  43.18306877821233,\n",
       "  42.35972528687656,\n",
       "  43.00030575591034,\n",
       "  43.085032632233364,\n",
       "  42.19553248623729,\n",
       "  43.08738701268607,\n",
       "  43.837403461544014,\n",
       "  42.86456468384523,\n",
       "  42.81239425565673,\n",
       "  42.47223505783746,\n",
       "  43.097985972855234,\n",
       "  42.96233620367224,\n",
       "  44.666651322734815,\n",
       "  46.29651343438452,\n",
       "  44.92074484827011,\n",
       "  48.46904445658273,\n",
       "  42.41342537027926,\n",
       "  42.20782753733202,\n",
       "  42.07961044594618,\n",
       "  42.608429858835606,\n",
       "  43.03341905912675],\n",
       " 'val_rmse': [5.219378471374512,\n",
       "  5.360729694366455,\n",
       "  5.1151814460754395,\n",
       "  5.66924524307251,\n",
       "  5.266803741455078,\n",
       "  4.9242753982543945,\n",
       "  4.925724983215332,\n",
       "  4.9616923332214355,\n",
       "  5.01517915725708,\n",
       "  4.910138130187988,\n",
       "  4.972260475158691,\n",
       "  4.9316816329956055,\n",
       "  4.892553806304932,\n",
       "  4.861272811889648,\n",
       "  4.923982620239258,\n",
       "  4.85400915145874,\n",
       "  5.211499214172363,\n",
       "  4.852169513702393,\n",
       "  4.904383659362793,\n",
       "  4.854990005493164,\n",
       "  4.839599132537842,\n",
       "  4.8360443115234375,\n",
       "  4.883040904998779,\n",
       "  4.900111198425293,\n",
       "  4.853386878967285,\n",
       "  4.9570417404174805,\n",
       "  5.106222629547119,\n",
       "  4.906241416931152,\n",
       "  4.908270359039307,\n",
       "  4.89493465423584,\n",
       "  4.830230712890625,\n",
       "  4.900335311889648,\n",
       "  4.936940670013428,\n",
       "  4.855816841125488,\n",
       "  4.934439659118652,\n",
       "  5.002926826477051,\n",
       "  4.9186811447143555,\n",
       "  4.883416652679443,\n",
       "  4.867680072784424,\n",
       "  4.929864883422852,\n",
       "  4.843379497528076,\n",
       "  4.925340175628662,\n",
       "  5.200612545013428,\n",
       "  4.96840763092041,\n",
       "  5.112270832061768,\n",
       "  4.853227138519287,\n",
       "  4.836571216583252,\n",
       "  4.827192306518555,\n",
       "  4.878503322601318,\n",
       "  4.855727195739746],\n",
       " 'loss': [130.95224529547718,\n",
       "  49.929998886969855,\n",
       "  48.33833004952005,\n",
       "  48.04849444336237,\n",
       "  47.14316436301737,\n",
       "  47.01143253133664,\n",
       "  46.47377680888828,\n",
       "  46.082269124101636,\n",
       "  46.064196881045866,\n",
       "  45.94342088831473,\n",
       "  45.05723457440293,\n",
       "  45.33271642261056,\n",
       "  44.630187018728066,\n",
       "  44.70401508162813,\n",
       "  44.83592853429866,\n",
       "  44.53969883031177,\n",
       "  44.5443189458782,\n",
       "  44.21875087634813,\n",
       "  44.14828561032003,\n",
       "  44.187159174755536,\n",
       "  44.098015722046505,\n",
       "  44.007649211176236,\n",
       "  44.0062160881217,\n",
       "  43.839610451218746,\n",
       "  44.10070050112877,\n",
       "  43.87408489538806,\n",
       "  43.823775674029406,\n",
       "  43.492958172761185,\n",
       "  43.601955748032935,\n",
       "  43.32369364687013,\n",
       "  43.49938138788664,\n",
       "  43.415339294368884,\n",
       "  43.233476892166465,\n",
       "  43.17420409250304,\n",
       "  43.354630111128486,\n",
       "  43.25645559450675,\n",
       "  43.299316388371906,\n",
       "  42.988775389840384,\n",
       "  43.28357012441183,\n",
       "  42.91594523303046,\n",
       "  42.969170886733004,\n",
       "  43.2427164196655,\n",
       "  42.94726339763815,\n",
       "  42.88358508893396,\n",
       "  43.00360766383459,\n",
       "  42.96006183142157,\n",
       "  42.93157250589182,\n",
       "  43.04081536226366,\n",
       "  42.885478340164184,\n",
       "  42.865365423009166],\n",
       " 'rmse': [6.7032013,\n",
       "  5.25768,\n",
       "  5.1743264,\n",
       "  5.160266,\n",
       "  5.114238,\n",
       "  5.111517,\n",
       "  5.0813603,\n",
       "  5.065421,\n",
       "  5.0670705,\n",
       "  5.0685916,\n",
       "  5.0136166,\n",
       "  5.0283327,\n",
       "  4.98495,\n",
       "  4.9938354,\n",
       "  5.007624,\n",
       "  4.9824166,\n",
       "  4.991061,\n",
       "  4.965373,\n",
       "  4.964257,\n",
       "  4.9647665,\n",
       "  4.9546814,\n",
       "  4.9586477,\n",
       "  4.9537416,\n",
       "  4.9495707,\n",
       "  4.9697547,\n",
       "  4.950386,\n",
       "  4.944724,\n",
       "  4.9211473,\n",
       "  4.9307985,\n",
       "  4.916313,\n",
       "  4.923884,\n",
       "  4.9283876,\n",
       "  4.910026,\n",
       "  4.9068036,\n",
       "  4.917126,\n",
       "  4.9068475,\n",
       "  4.9085164,\n",
       "  4.8944225,\n",
       "  4.910908,\n",
       "  4.8886833,\n",
       "  4.8969703,\n",
       "  4.912309,\n",
       "  4.894036,\n",
       "  4.8935156,\n",
       "  4.893714,\n",
       "  4.8922105,\n",
       "  4.897931,\n",
       "  4.9007583,\n",
       "  4.8922863,\n",
       "  4.8890676]}"
      ]
     },
     "execution_count": 907,
     "metadata": {},
     "output_type": "execute_result"
    }
   ],
   "source": [
    "history.history"
   ]
  },
  {
   "cell_type": "code",
   "execution_count": 908,
   "id": "least-cooking",
   "metadata": {},
   "outputs": [
    {
     "data": {
      "image/png": "[encoded data removed]",
      "text/plain": [
       "<Figure size 432x288 with 1 Axes>"
      ]
     },
     "metadata": {
      "needs_background": "light"
     },
     "output_type": "display_data"
    },
    {
     "data": {
      "image/png": "[encoded data removed]",
      "text/plain": [
       "<Figure size 432x288 with 1 Axes>"
      ]
     },
     "metadata": {
      "needs_background": "light"
     },
     "output_type": "display_data"
    }
   ],
   "source": [
    "history_dict = history.history\n",
    "# print(history_dict)\n",
    "loss_values = history_dict['loss']\n",
    "val_loss_values = history_dict['val_loss']\n",
    "rmse = history_dict['rmse']\n",
    "epochs = range(1, len(rmse) + 1)\n",
    " \n",
    "plt.plot(epochs, loss_values, 'bo', label = 'Training loss')\n",
    "plt.plot(epochs, val_loss_values, 'b', label = 'Validation loss')\n",
    "plt.title('Training and validation loss')\n",
    "plt.xlabel('Epochs')\n",
    "plt.ylabel('Loss')\n",
    "plt.legend()\n",
    "plt.show()# \n",
    "rmse_values = history_dict['rmse']\n",
    "val_rmse_values = history_dict['val_rmse']\n",
    " \n",
    "plt.plot(epochs, rmse_values, 'bo', label = 'Training rmse')\n",
    "plt.plot(epochs, val_rmse_values, 'b', label = 'Validation rmse')\n",
    "plt.title('Training and validation accuracy')\n",
    "plt.xlabel('Epochs')\n",
    "plt.ylabel('rmse')\n",
    "plt.legend()\n",
    "plt.show()"
   ]
  },
  {
   "cell_type": "markdown",
   "id": "theoretical-boxing",
   "metadata": {},
   "source": [
    "# 预测和文件输出"
   ]
  },
  {
   "cell_type": "markdown",
   "id": "critical-tuner",
   "metadata": {},
   "source": [
    "## 提取test数据"
   ]
  },
  {
   "cell_type": "code",
   "execution_count": 909,
   "id": "special-plymouth",
   "metadata": {},
   "outputs": [
    {
     "data": {
      "text/html": [
       "<div>\n",
       "<style scoped>\n",
       "    .dataframe tbody tr th:only-of-type {\n",
       "        vertical-align: middle;\n",
       "    }\n",
       "\n",
       "    .dataframe tbody tr th {\n",
       "        vertical-align: top;\n",
       "    }\n",
       "\n",
       "    .dataframe thead th {\n",
       "        text-align: right;\n",
       "    }\n",
       "</style>\n",
       "<table border=\"1\" class=\"dataframe\">\n",
       "  <thead>\n",
       "    <tr style=\"text-align: right;\">\n",
       "      <th></th>\n",
       "      <th>数据ID</th>\n",
       "      <th>容纳人数</th>\n",
       "      <th>便利设施</th>\n",
       "      <th>洗手间数量</th>\n",
       "      <th>床的数量</th>\n",
       "      <th>床的类型</th>\n",
       "      <th>卧室数量</th>\n",
       "      <th>取消条款</th>\n",
       "      <th>所在城市</th>\n",
       "      <th>清洁费</th>\n",
       "      <th>...</th>\n",
       "      <th>是否支持随即预订</th>\n",
       "      <th>最近评论日期</th>\n",
       "      <th>维度</th>\n",
       "      <th>经度</th>\n",
       "      <th>民宿周边</th>\n",
       "      <th>评论个数</th>\n",
       "      <th>房产类型</th>\n",
       "      <th>民宿评分</th>\n",
       "      <th>房型</th>\n",
       "      <th>邮编</th>\n",
       "    </tr>\n",
       "  </thead>\n",
       "  <tbody>\n",
       "    <tr>\n",
       "      <th>0</th>\n",
       "      <td>test_0</td>\n",
       "      <td>2</td>\n",
       "      <td>18</td>\n",
       "      <td>1.5</td>\n",
       "      <td>1.0</td>\n",
       "      <td>4</td>\n",
       "      <td>1.0</td>\n",
       "      <td>2</td>\n",
       "      <td>1</td>\n",
       "      <td>1</td>\n",
       "      <td>...</td>\n",
       "      <td>1</td>\n",
       "      <td>1564.0</td>\n",
       "      <td>41.849684</td>\n",
       "      <td>-87.676270</td>\n",
       "      <td>363</td>\n",
       "      <td>17</td>\n",
       "      <td>17</td>\n",
       "      <td>97.0</td>\n",
       "      <td>1</td>\n",
       "      <td>60608</td>\n",
       "    </tr>\n",
       "    <tr>\n",
       "      <th>1</th>\n",
       "      <td>test_1</td>\n",
       "      <td>2</td>\n",
       "      <td>11</td>\n",
       "      <td>2.0</td>\n",
       "      <td>1.0</td>\n",
       "      <td>4</td>\n",
       "      <td>1.0</td>\n",
       "      <td>2</td>\n",
       "      <td>3</td>\n",
       "      <td>1</td>\n",
       "      <td>...</td>\n",
       "      <td>0</td>\n",
       "      <td>1977.0</td>\n",
       "      <td>34.068613</td>\n",
       "      <td>-118.246455</td>\n",
       "      <td>150</td>\n",
       "      <td>2</td>\n",
       "      <td>0</td>\n",
       "      <td>100.0</td>\n",
       "      <td>0</td>\n",
       "      <td>90012</td>\n",
       "    </tr>\n",
       "    <tr>\n",
       "      <th>2</th>\n",
       "      <td>test_2</td>\n",
       "      <td>5</td>\n",
       "      <td>24</td>\n",
       "      <td>1.0</td>\n",
       "      <td>3.0</td>\n",
       "      <td>4</td>\n",
       "      <td>2.0</td>\n",
       "      <td>1</td>\n",
       "      <td>4</td>\n",
       "      <td>1</td>\n",
       "      <td>...</td>\n",
       "      <td>1</td>\n",
       "      <td>1297.0</td>\n",
       "      <td>40.701958</td>\n",
       "      <td>-73.917352</td>\n",
       "      <td>71</td>\n",
       "      <td>25</td>\n",
       "      <td>0</td>\n",
       "      <td>88.0</td>\n",
       "      <td>0</td>\n",
       "      <td>11237</td>\n",
       "    </tr>\n",
       "    <tr>\n",
       "      <th>3</th>\n",
       "      <td>test_3</td>\n",
       "      <td>6</td>\n",
       "      <td>8</td>\n",
       "      <td>1.0</td>\n",
       "      <td>3.0</td>\n",
       "      <td>4</td>\n",
       "      <td>1.0</td>\n",
       "      <td>2</td>\n",
       "      <td>4</td>\n",
       "      <td>1</td>\n",
       "      <td>...</td>\n",
       "      <td>0</td>\n",
       "      <td>1355.0</td>\n",
       "      <td>40.742959</td>\n",
       "      <td>-73.990820</td>\n",
       "      <td>169</td>\n",
       "      <td>12</td>\n",
       "      <td>0</td>\n",
       "      <td>82.0</td>\n",
       "      <td>0</td>\n",
       "      <td>10010</td>\n",
       "    </tr>\n",
       "    <tr>\n",
       "      <th>4</th>\n",
       "      <td>test_4</td>\n",
       "      <td>2</td>\n",
       "      <td>16</td>\n",
       "      <td>1.0</td>\n",
       "      <td>1.0</td>\n",
       "      <td>4</td>\n",
       "      <td>1.0</td>\n",
       "      <td>0</td>\n",
       "      <td>3</td>\n",
       "      <td>1</td>\n",
       "      <td>...</td>\n",
       "      <td>0</td>\n",
       "      <td>1481.0</td>\n",
       "      <td>34.046473</td>\n",
       "      <td>-117.734095</td>\n",
       "      <td>519</td>\n",
       "      <td>2</td>\n",
       "      <td>17</td>\n",
       "      <td>100.0</td>\n",
       "      <td>1</td>\n",
       "      <td>91766</td>\n",
       "    </tr>\n",
       "    <tr>\n",
       "      <th>...</th>\n",
       "      <td>...</td>\n",
       "      <td>...</td>\n",
       "      <td>...</td>\n",
       "      <td>...</td>\n",
       "      <td>...</td>\n",
       "      <td>...</td>\n",
       "      <td>...</td>\n",
       "      <td>...</td>\n",
       "      <td>...</td>\n",
       "      <td>...</td>\n",
       "      <td>...</td>\n",
       "      <td>...</td>\n",
       "      <td>...</td>\n",
       "      <td>...</td>\n",
       "      <td>...</td>\n",
       "      <td>...</td>\n",
       "      <td>...</td>\n",
       "      <td>...</td>\n",
       "      <td>...</td>\n",
       "      <td>...</td>\n",
       "      <td>...</td>\n",
       "    </tr>\n",
       "    <tr>\n",
       "      <th>14818</th>\n",
       "      <td>test_14818</td>\n",
       "      <td>4</td>\n",
       "      <td>24</td>\n",
       "      <td>1.0</td>\n",
       "      <td>2.0</td>\n",
       "      <td>4</td>\n",
       "      <td>1.0</td>\n",
       "      <td>2</td>\n",
       "      <td>4</td>\n",
       "      <td>1</td>\n",
       "      <td>...</td>\n",
       "      <td>0</td>\n",
       "      <td>1305.0</td>\n",
       "      <td>40.764226</td>\n",
       "      <td>-73.976932</td>\n",
       "      <td>296</td>\n",
       "      <td>5</td>\n",
       "      <td>0</td>\n",
       "      <td>100.0</td>\n",
       "      <td>0</td>\n",
       "      <td>10019</td>\n",
       "    </tr>\n",
       "    <tr>\n",
       "      <th>14819</th>\n",
       "      <td>test_14819</td>\n",
       "      <td>4</td>\n",
       "      <td>14</td>\n",
       "      <td>1.0</td>\n",
       "      <td>2.0</td>\n",
       "      <td>4</td>\n",
       "      <td>1.0</td>\n",
       "      <td>1</td>\n",
       "      <td>3</td>\n",
       "      <td>1</td>\n",
       "      <td>...</td>\n",
       "      <td>0</td>\n",
       "      <td>1560.0</td>\n",
       "      <td>34.134544</td>\n",
       "      <td>-118.360631</td>\n",
       "      <td>519</td>\n",
       "      <td>41</td>\n",
       "      <td>17</td>\n",
       "      <td>89.0</td>\n",
       "      <td>1</td>\n",
       "      <td>90068</td>\n",
       "    </tr>\n",
       "    <tr>\n",
       "      <th>14820</th>\n",
       "      <td>test_14820</td>\n",
       "      <td>2</td>\n",
       "      <td>9</td>\n",
       "      <td>1.0</td>\n",
       "      <td>1.0</td>\n",
       "      <td>4</td>\n",
       "      <td>1.0</td>\n",
       "      <td>1</td>\n",
       "      <td>4</td>\n",
       "      <td>1</td>\n",
       "      <td>...</td>\n",
       "      <td>0</td>\n",
       "      <td>NaN</td>\n",
       "      <td>40.649617</td>\n",
       "      <td>-74.003502</td>\n",
       "      <td>437</td>\n",
       "      <td>0</td>\n",
       "      <td>0</td>\n",
       "      <td>NaN</td>\n",
       "      <td>0</td>\n",
       "      <td>11232</td>\n",
       "    </tr>\n",
       "    <tr>\n",
       "      <th>14821</th>\n",
       "      <td>test_14821</td>\n",
       "      <td>10</td>\n",
       "      <td>24</td>\n",
       "      <td>1.5</td>\n",
       "      <td>3.0</td>\n",
       "      <td>4</td>\n",
       "      <td>3.0</td>\n",
       "      <td>2</td>\n",
       "      <td>3</td>\n",
       "      <td>1</td>\n",
       "      <td>...</td>\n",
       "      <td>1</td>\n",
       "      <td>1480.0</td>\n",
       "      <td>34.075903</td>\n",
       "      <td>-118.254904</td>\n",
       "      <td>150</td>\n",
       "      <td>38</td>\n",
       "      <td>17</td>\n",
       "      <td>91.0</td>\n",
       "      <td>0</td>\n",
       "      <td>90026</td>\n",
       "    </tr>\n",
       "    <tr>\n",
       "      <th>14822</th>\n",
       "      <td>test_14822</td>\n",
       "      <td>2</td>\n",
       "      <td>12</td>\n",
       "      <td>1.0</td>\n",
       "      <td>1.0</td>\n",
       "      <td>4</td>\n",
       "      <td>1.0</td>\n",
       "      <td>0</td>\n",
       "      <td>0</td>\n",
       "      <td>0</td>\n",
       "      <td>...</td>\n",
       "      <td>0</td>\n",
       "      <td>2012.0</td>\n",
       "      <td>42.350294</td>\n",
       "      <td>-71.147264</td>\n",
       "      <td>6</td>\n",
       "      <td>1</td>\n",
       "      <td>0</td>\n",
       "      <td>80.0</td>\n",
       "      <td>1</td>\n",
       "      <td>02135</td>\n",
       "    </tr>\n",
       "  </tbody>\n",
       "</table>\n",
       "<p>14823 rows × 25 columns</p>\n",
       "</div>"
      ],
      "text/plain": [
       "             数据ID  容纳人数  便利设施  洗手间数量  床的数量  床的类型  卧室数量  取消条款  所在城市  清洁费  ...  \\\n",
       "0          test_0     2    18    1.5   1.0     4   1.0     2     1    1  ...   \n",
       "1          test_1     2    11    2.0   1.0     4   1.0     2     3    1  ...   \n",
       "2          test_2     5    24    1.0   3.0     4   2.0     1     4    1  ...   \n",
       "3          test_3     6     8    1.0   3.0     4   1.0     2     4    1  ...   \n",
       "4          test_4     2    16    1.0   1.0     4   1.0     0     3    1  ...   \n",
       "...           ...   ...   ...    ...   ...   ...   ...   ...   ...  ...  ...   \n",
       "14818  test_14818     4    24    1.0   2.0     4   1.0     2     4    1  ...   \n",
       "14819  test_14819     4    14    1.0   2.0     4   1.0     1     3    1  ...   \n",
       "14820  test_14820     2     9    1.0   1.0     4   1.0     1     4    1  ...   \n",
       "14821  test_14821    10    24    1.5   3.0     4   3.0     2     3    1  ...   \n",
       "14822  test_14822     2    12    1.0   1.0     4   1.0     0     0    0  ...   \n",
       "\n",
       "       是否支持随即预订  最近评论日期         维度          经度  民宿周边  评论个数  房产类型   民宿评分  房型  \\\n",
       "0             1  1564.0  41.849684  -87.676270   363    17    17   97.0   1   \n",
       "1             0  1977.0  34.068613 -118.246455   150     2     0  100.0   0   \n",
       "2             1  1297.0  40.701958  -73.917352    71    25     0   88.0   0   \n",
       "3             0  1355.0  40.742959  -73.990820   169    12     0   82.0   0   \n",
       "4             0  1481.0  34.046473 -117.734095   519     2    17  100.0   1   \n",
       "...         ...     ...        ...         ...   ...   ...   ...    ...  ..   \n",
       "14818         0  1305.0  40.764226  -73.976932   296     5     0  100.0   0   \n",
       "14819         0  1560.0  34.134544 -118.360631   519    41    17   89.0   1   \n",
       "14820         0     NaN  40.649617  -74.003502   437     0     0    NaN   0   \n",
       "14821         1  1480.0  34.075903 -118.254904   150    38    17   91.0   0   \n",
       "14822         0  2012.0  42.350294  -71.147264     6     1     0   80.0   1   \n",
       "\n",
       "          邮编  \n",
       "0      60608  \n",
       "1      90012  \n",
       "2      11237  \n",
       "3      10010  \n",
       "4      91766  \n",
       "...      ...  \n",
       "14818  10019  \n",
       "14819  90068  \n",
       "14820  11232  \n",
       "14821  90026  \n",
       "14822  02135  \n",
       "\n",
       "[14823 rows x 25 columns]"
      ]
     },
     "execution_count": 909,
     "metadata": {},
     "output_type": "execute_result"
    }
   ],
   "source": [
    "data_test"
   ]
  },
  {
   "cell_type": "code",
   "execution_count": 910,
   "id": "crucial-driver",
   "metadata": {
    "scrolled": true
   },
   "outputs": [
    {
     "data": {
      "text/plain": [
       "array([[0.06666667, 0.23684211, 0.27777778, ..., 0.5       , 0.97029703,\n",
       "        0.5       ],\n",
       "       [0.06666667, 0.14473684, 0.33333333, ..., 0.        , 1.        ,\n",
       "        0.        ],\n",
       "       [0.26666667, 0.31578947, 0.22222222, ..., 0.        , 0.88118812,\n",
       "        0.        ],\n",
       "       ...,\n",
       "       [0.06666667, 0.11842105, 0.22222222, ..., 0.        , 0.        ,\n",
       "        0.        ],\n",
       "       [0.6       , 0.31578947, 0.27777778, ..., 0.5       , 0.91089109,\n",
       "        0.        ],\n",
       "       [0.06666667, 0.15789474, 0.22222222, ..., 0.        , 0.8019802 ,\n",
       "        0.5       ]])"
      ]
     },
     "execution_count": 910,
     "metadata": {},
     "output_type": "execute_result"
    }
   ],
   "source": [
    "test_file=data_test.iloc[:,1:-1]\n",
    "test_file.fillna(value=-1,inplace=True)\n",
    "test_file=mm.fit_transform(test_file)\n",
    "test_file"
   ]
  },
  {
   "cell_type": "code",
   "execution_count": 911,
   "id": "median-python",
   "metadata": {
    "scrolled": true
   },
   "outputs": [
    {
     "name": "stdout",
     "output_type": "stream",
     "text": [
      "Model: \"sequential_33\"\n",
      "_________________________________________________________________\n",
      "Layer (type)                 Output Shape              Param #   \n",
      "=================================================================\n",
      "dense_127 (Dense)            (None, 64)                1536      \n",
      "_________________________________________________________________\n",
      "dense_128 (Dense)            (None, 128)               8320      \n",
      "_________________________________________________________________\n",
      "dense_129 (Dense)            (None, 64)                8256      \n",
      "_________________________________________________________________\n",
      "dense_130 (Dense)            (None, 32)                2080      \n",
      "_________________________________________________________________\n",
      "dense_131 (Dense)            (None, 16)                528       \n",
      "_________________________________________________________________\n",
      "dense_132 (Dense)            (None, 1)                 17        \n",
      "=================================================================\n",
      "Total params: 20,737\n",
      "Trainable params: 20,737\n",
      "Non-trainable params: 0\n",
      "_________________________________________________________________\n"
     ]
    }
   ],
   "source": [
    "from keras import backend\n",
    "\n",
    "def rmse(y_true, y_pred):\n",
    "    return backend.sqrt(backend.mean(backend.square(y_pred - y_true), axis=-1))\n",
    "model1=models.Sequential()\n",
    "model1.add(layers.Dense(64,input_dim=23,activation=\"relu\"))\n",
    "model1.add(layers.Dense(128,activation=\"relu\"))\n",
    "model1.add(layers.Dense(64,activation=\"relu\"))\n",
    "model1.add(layers.Dense(32,activation=\"relu\"))\n",
    "model1.add(layers.Dense(16,activation=\"relu\"))\n",
    "model1.add(layers.Dense(1))\n",
    "adam=optimizers.Adam(lr=0.001)\n",
    "model1.compile(optimizer=adam, loss='mse', metrics=[rmse])\n",
    "model1.summary()"
   ]
  },
  {
   "cell_type": "code",
   "execution_count": 844,
   "id": "critical-section",
   "metadata": {},
   "outputs": [
    {
     "name": "stderr",
     "output_type": "stream",
     "text": [
      "/Users/rexa/opt/anaconda3/envs/tensorflow/lib/python3.7/site-packages/ipykernel_launcher.py:1: UserWarning: The `nb_epoch` argument in `fit` has been renamed `epochs`.\n",
      "  \"\"\"Entry point for launching an IPython kernel.\n"
     ]
    },
    {
     "name": "stdout",
     "output_type": "stream",
     "text": [
      "Train on 41501 samples, validate on 17787 samples\n",
      "Epoch 1/45\n",
      "41501/41501 [==============================] - 4s 86us/step - loss: 339.8691 - rmse: 10.2147 - val_loss: 51.1273 - val_rmse: 5.3229\n",
      "Epoch 2/45\n",
      "41501/41501 [==============================] - 3s 63us/step - loss: 49.0206 - rmse: 5.2765 - val_loss: 47.3561 - val_rmse: 5.1269\n",
      "Epoch 3/45\n",
      "41501/41501 [==============================] - 3s 61us/step - loss: 46.9259 - rmse: 5.1655 - val_loss: 45.4679 - val_rmse: 5.0897\n",
      "Epoch 4/45\n",
      "41501/41501 [==============================] - 3s 62us/step - loss: 45.8527 - rmse: 5.1129 - val_loss: 44.5411 - val_rmse: 5.0426\n",
      "Epoch 5/45\n",
      "41501/41501 [==============================] - 3s 61us/step - loss: 45.5192 - rmse: 5.0914 - val_loss: 45.2005 - val_rmse: 5.0403\n",
      "Epoch 6/45\n",
      "41501/41501 [==============================] - 3s 62us/step - loss: 45.2906 - rmse: 5.0823 - val_loss: 46.2718 - val_rmse: 5.0662\n",
      "Epoch 7/45\n",
      "41501/41501 [==============================] - 3s 62us/step - loss: 45.1167 - rmse: 5.0727 - val_loss: 44.0374 - val_rmse: 5.0199\n",
      "Epoch 8/45\n",
      "41501/41501 [==============================] - 3s 63us/step - loss: 45.0770 - rmse: 5.0806 - val_loss: 43.7923 - val_rmse: 4.9752\n",
      "Epoch 9/45\n",
      "41501/41501 [==============================] - 3s 63us/step - loss: 44.7054 - rmse: 5.0527 - val_loss: 44.0004 - val_rmse: 4.9677\n",
      "Epoch 10/45\n",
      "41501/41501 [==============================] - 3s 64us/step - loss: 44.5733 - rmse: 5.0489 - val_loss: 45.7009 - val_rmse: 5.0487\n",
      "Epoch 11/45\n",
      "41501/41501 [==============================] - 3s 65us/step - loss: 44.1907 - rmse: 5.0292 - val_loss: 45.8072 - val_rmse: 5.0538\n",
      "Epoch 12/45\n",
      "41501/41501 [==============================] - 3s 67us/step - loss: 43.9579 - rmse: 5.0073 - val_loss: 43.0537 - val_rmse: 4.9521\n",
      "Epoch 13/45\n",
      "41501/41501 [==============================] - 3s 68us/step - loss: 43.8574 - rmse: 5.0104 - val_loss: 43.2700 - val_rmse: 4.9468\n",
      "Epoch 14/45\n",
      "41501/41501 [==============================] - 3s 67us/step - loss: 44.0455 - rmse: 5.0164 - val_loss: 42.5566 - val_rmse: 4.9040\n",
      "Epoch 15/45\n",
      "41501/41501 [==============================] - 3s 67us/step - loss: 43.6325 - rmse: 4.9965 - val_loss: 43.5629 - val_rmse: 4.9197\n",
      "Epoch 16/45\n",
      "41501/41501 [==============================] - 3s 70us/step - loss: 43.5684 - rmse: 4.9889 - val_loss: 42.6397 - val_rmse: 4.9373\n",
      "Epoch 17/45\n",
      "41501/41501 [==============================] - 3s 69us/step - loss: 43.4634 - rmse: 4.9930 - val_loss: 45.3576 - val_rmse: 5.0290\n",
      "Epoch 18/45\n",
      "41501/41501 [==============================] - 3s 69us/step - loss: 43.3601 - rmse: 4.9781 - val_loss: 43.6175 - val_rmse: 5.0376\n",
      "Epoch 19/45\n",
      "41501/41501 [==============================] - 3s 69us/step - loss: 42.8762 - rmse: 4.9492 - val_loss: 43.0014 - val_rmse: 4.9328\n",
      "Epoch 20/45\n",
      "41501/41501 [==============================] - 3s 70us/step - loss: 43.1109 - rmse: 4.9652 - val_loss: 43.0778 - val_rmse: 5.0009\n",
      "Epoch 21/45\n",
      "41501/41501 [==============================] - 3s 69us/step - loss: 42.9357 - rmse: 4.9529 - val_loss: 44.1856 - val_rmse: 5.0908\n",
      "Epoch 22/45\n",
      "41501/41501 [==============================] - 3s 69us/step - loss: 42.5994 - rmse: 4.9340 - val_loss: 47.6688 - val_rmse: 5.1371\n",
      "Epoch 23/45\n",
      "41501/41501 [==============================] - 3s 70us/step - loss: 42.9823 - rmse: 4.9584 - val_loss: 42.1587 - val_rmse: 4.9201\n",
      "Epoch 24/45\n",
      "41501/41501 [==============================] - 3s 70us/step - loss: 42.6511 - rmse: 4.9332 - val_loss: 42.7259 - val_rmse: 4.8827\n",
      "Epoch 25/45\n",
      "41501/41501 [==============================] - 3s 69us/step - loss: 42.1636 - rmse: 4.9076 - val_loss: 42.2186 - val_rmse: 4.9198\n",
      "Epoch 26/45\n",
      "41501/41501 [==============================] - 3s 69us/step - loss: 42.4500 - rmse: 4.9290 - val_loss: 44.3459 - val_rmse: 4.9283\n",
      "Epoch 27/45\n",
      "41501/41501 [==============================] - 3s 69us/step - loss: 42.4766 - rmse: 4.9256 - val_loss: 42.3311 - val_rmse: 4.9199\n",
      "Epoch 28/45\n",
      "41501/41501 [==============================] - 3s 68us/step - loss: 41.8498 - rmse: 4.8839 - val_loss: 45.6376 - val_rmse: 5.2190\n",
      "Epoch 29/45\n",
      "41501/41501 [==============================] - 3s 69us/step - loss: 42.4785 - rmse: 4.9306 - val_loss: 41.5850 - val_rmse: 4.8236\n",
      "Epoch 30/45\n",
      "41501/41501 [==============================] - 3s 68us/step - loss: 42.1354 - rmse: 4.9117 - val_loss: 41.4353 - val_rmse: 4.8393\n",
      "Epoch 31/45\n",
      "41501/41501 [==============================] - 3s 68us/step - loss: 42.0933 - rmse: 4.9076 - val_loss: 42.7111 - val_rmse: 4.9724\n",
      "Epoch 32/45\n",
      "41501/41501 [==============================] - 3s 67us/step - loss: 41.7991 - rmse: 4.8913 - val_loss: 41.9056 - val_rmse: 4.8633\n",
      "Epoch 33/45\n",
      "41501/41501 [==============================] - 3s 70us/step - loss: 42.2626 - rmse: 4.9159 - val_loss: 41.8686 - val_rmse: 4.8309\n",
      "Epoch 34/45\n",
      "41501/41501 [==============================] - 3s 68us/step - loss: 41.7098 - rmse: 4.8824 - val_loss: 41.8555 - val_rmse: 4.8362\n",
      "Epoch 35/45\n",
      "41501/41501 [==============================] - 3s 67us/step - loss: 41.5107 - rmse: 4.8663 - val_loss: 42.0784 - val_rmse: 4.8313\n",
      "Epoch 36/45\n",
      "41501/41501 [==============================] - 3s 66us/step - loss: 41.9398 - rmse: 4.9000 - val_loss: 41.2236 - val_rmse: 4.8145\n",
      "Epoch 37/45\n",
      "41501/41501 [==============================] - 3s 67us/step - loss: 41.8002 - rmse: 4.8881 - val_loss: 41.6631 - val_rmse: 4.8549\n",
      "Epoch 38/45\n",
      "41501/41501 [==============================] - 3s 68us/step - loss: 41.6834 - rmse: 4.8835 - val_loss: 45.8163 - val_rmse: 5.2228\n",
      "Epoch 39/45\n",
      "41501/41501 [==============================] - 3s 70us/step - loss: 41.6511 - rmse: 4.8807 - val_loss: 41.0749 - val_rmse: 4.8291\n",
      "Epoch 40/45\n",
      "41501/41501 [==============================] - 3s 68us/step - loss: 41.4931 - rmse: 4.8691 - val_loss: 41.6362 - val_rmse: 4.8377\n",
      "Epoch 41/45\n",
      "41501/41501 [==============================] - 3s 67us/step - loss: 41.4531 - rmse: 4.8661 - val_loss: 41.3949 - val_rmse: 4.7987\n",
      "Epoch 42/45\n",
      "41501/41501 [==============================] - 3s 67us/step - loss: 41.3651 - rmse: 4.8658 - val_loss: 40.9693 - val_rmse: 4.8134\n",
      "Epoch 43/45\n",
      "41501/41501 [==============================] - 3s 66us/step - loss: 41.5316 - rmse: 4.8718 - val_loss: 41.9180 - val_rmse: 4.8919\n",
      "Epoch 44/45\n",
      "41501/41501 [==============================] - 3s 67us/step - loss: 41.4629 - rmse: 4.8679 - val_loss: 40.9042 - val_rmse: 4.7975\n",
      "Epoch 45/45\n",
      "41501/41501 [==============================] - 3s 65us/step - loss: 41.4561 - rmse: 4.8689 - val_loss: 41.7651 - val_rmse: 4.9120\n"
     ]
    },
    {
     "data": {
      "text/plain": [
       "<keras.callbacks.callbacks.History at 0x7f8284238750>"
      ]
     },
     "execution_count": 844,
     "metadata": {},
     "output_type": "execute_result"
    }
   ],
   "source": [
    "model1.fit(X_train,y_train,nb_epoch =45, batch_size =64,validation_data=(X_test,y_test))"
   ]
  },
  {
   "cell_type": "code",
   "execution_count": 912,
   "id": "painful-execution",
   "metadata": {},
   "outputs": [],
   "source": [
    "result=model.predict(test_file)\n",
    "result=pd.DataFrame(result)"
   ]
  },
  {
   "cell_type": "code",
   "execution_count": 913,
   "id": "frank-indonesia",
   "metadata": {},
   "outputs": [],
   "source": [
    "output_file=pd.merge(data_test.iloc[:,0],result,left_index=True,right_index=True)"
   ]
  },
  {
   "cell_type": "code",
   "execution_count": 914,
   "id": "unusual-palestinian",
   "metadata": {
    "scrolled": true
   },
   "outputs": [
    {
     "data": {
      "text/html": [
       "<div>\n",
       "<style scoped>\n",
       "    .dataframe tbody tr th:only-of-type {\n",
       "        vertical-align: middle;\n",
       "    }\n",
       "\n",
       "    .dataframe tbody tr th {\n",
       "        vertical-align: top;\n",
       "    }\n",
       "\n",
       "    .dataframe thead th {\n",
       "        text-align: right;\n",
       "    }\n",
       "</style>\n",
       "<table border=\"1\" class=\"dataframe\">\n",
       "  <thead>\n",
       "    <tr style=\"text-align: right;\">\n",
       "      <th></th>\n",
       "      <th>价格</th>\n",
       "    </tr>\n",
       "    <tr>\n",
       "      <th>数据ID</th>\n",
       "      <th></th>\n",
       "    </tr>\n",
       "  </thead>\n",
       "  <tbody>\n",
       "    <tr>\n",
       "      <th>test_0</th>\n",
       "      <td>58.777103</td>\n",
       "    </tr>\n",
       "    <tr>\n",
       "      <th>test_1</th>\n",
       "      <td>72.386299</td>\n",
       "    </tr>\n",
       "    <tr>\n",
       "      <th>test_2</th>\n",
       "      <td>73.666885</td>\n",
       "    </tr>\n",
       "    <tr>\n",
       "      <th>test_3</th>\n",
       "      <td>74.715164</td>\n",
       "    </tr>\n",
       "    <tr>\n",
       "      <th>test_4</th>\n",
       "      <td>59.608192</td>\n",
       "    </tr>\n",
       "    <tr>\n",
       "      <th>...</th>\n",
       "      <td>...</td>\n",
       "    </tr>\n",
       "    <tr>\n",
       "      <th>test_14818</th>\n",
       "      <td>75.353706</td>\n",
       "    </tr>\n",
       "    <tr>\n",
       "      <th>test_14819</th>\n",
       "      <td>61.286736</td>\n",
       "    </tr>\n",
       "    <tr>\n",
       "      <th>test_14820</th>\n",
       "      <td>72.337509</td>\n",
       "    </tr>\n",
       "    <tr>\n",
       "      <th>test_14821</th>\n",
       "      <td>79.292809</td>\n",
       "    </tr>\n",
       "    <tr>\n",
       "      <th>test_14822</th>\n",
       "      <td>62.839249</td>\n",
       "    </tr>\n",
       "  </tbody>\n",
       "</table>\n",
       "<p>14823 rows × 1 columns</p>\n",
       "</div>"
      ],
      "text/plain": [
       "                   价格\n",
       "数据ID                 \n",
       "test_0      58.777103\n",
       "test_1      72.386299\n",
       "test_2      73.666885\n",
       "test_3      74.715164\n",
       "test_4      59.608192\n",
       "...               ...\n",
       "test_14818  75.353706\n",
       "test_14819  61.286736\n",
       "test_14820  72.337509\n",
       "test_14821  79.292809\n",
       "test_14822  62.839249\n",
       "\n",
       "[14823 rows x 1 columns]"
      ]
     },
     "execution_count": 914,
     "metadata": {},
     "output_type": "execute_result"
    }
   ],
   "source": [
    "output_file.rename(columns={0:\"价格\"},inplace=True)\n",
    "output_file.set_index(\"数据ID\",drop=True,inplace=True)\n",
    "output_file"
   ]
  },
  {
   "cell_type": "markdown",
   "id": "needed-liquid",
   "metadata": {},
   "source": [
    "## 文件输出"
   ]
  },
  {
   "cell_type": "code",
   "execution_count": 915,
   "id": "celtic-finance",
   "metadata": {},
   "outputs": [],
   "source": [
    "output_file.to_csv(\"1.csv\")"
   ]
  }
 ],
 "metadata": {
  "kernelspec": {
   "display_name": "Python 3",
   "language": "python",
   "name": "python3"
  },
  "language_info": {
   "codemirror_mode": {
    "name": "ipython",
    "version": 3
   },
   "file_extension": ".py",
   "mimetype": "text/x-python",
   "name": "python",
   "nbconvert_exporter": "python",
   "pygments_lexer": "ipython3",
   "version": "3.7.9"
  },
  "toc": {
   "base_numbering": 1,
   "nav_menu": {},
   "number_sections": true,
   "sideBar": true,
   "skip_h1_title": false,
   "title_cell": "Table of Contents",
   "title_sidebar": "Contents",
   "toc_cell": false,
   "toc_position": {
    "height": "calc(100% - 180px)",
    "left": "10px",
    "top": "150px",
    "width": "288px"
   },
   "toc_section_display": true,
   "toc_window_display": true
  }
 },
 "nbformat": 4,
 "nbformat_minor": 5
}
